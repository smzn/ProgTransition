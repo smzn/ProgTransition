{
  "nbformat": 4,
  "nbformat_minor": 0,
  "metadata": {
    "language_info": {
      "codemirror_mode": {
        "name": "ipython",
        "version": 3
      },
      "file_extension": ".py",
      "mimetype": "text/x-python",
      "name": "python",
      "nbconvert_exporter": "python",
      "pygments_lexer": "ipython3",
      "version": "3.7.7-final"
    },
    "orig_nbformat": 2,
    "kernelspec": {
      "name": "python3",
      "display_name": "Python 3",
      "language": "python"
    },
    "colab": {
      "name": "After2Transition.ipynb",
      "provenance": [],
      "collapsed_sections": []
    }
  },
  "cells": [
    {
      "cell_type": "markdown",
      "metadata": {
        "id": "SP-dzusEmeg-"
      },
      "source": [
        "## 推移確率行列で0となる部分を取り除くプログラム(建物、AP)"
      ]
    },
    {
      "cell_type": "code",
      "metadata": {
        "colab": {
          "base_uri": "https://localhost:8080/"
        },
        "id": "M0kkWQ2_k9W_",
        "outputId": "eeb47ca2-2fff-4e02-aa2f-08726d0fc9f0"
      },
      "source": [
        "from google.colab import drive\n",
        "drive.mount('/content/drive', force_remount=True)"
      ],
      "execution_count": 272,
      "outputs": [
        {
          "output_type": "stream",
          "name": "stdout",
          "text": [
            "Mounted at /content/drive\n"
          ]
        }
      ]
    },
    {
      "cell_type": "code",
      "metadata": {
        "id": "2OQYJWO5Sss0"
      },
      "source": [
        "import pandas as pd\n",
        "import numpy as np\n",
        "import matplotlib.pyplot as plt\n",
        "plt.rcParams['font.family'] = 'IPAexGothic'"
      ],
      "execution_count": 273,
      "outputs": []
    },
    {
      "cell_type": "code",
      "metadata": {
        "id": "NkaJCNVJqj6B"
      },
      "source": [
        "calmonth = '201504'\n",
        "import sys\n",
        "sys.path.append('/content/drive/MyDrive/研究/WiFiLog/')\n",
        "import utils"
      ],
      "execution_count": 274,
      "outputs": []
    },
    {
      "cell_type": "code",
      "metadata": {
        "id": "CpodpmiYoXSb"
      },
      "source": [
        "path = '/content/drive/MyDrive/研究/WiFiLog/wifidata/after/'+str(calmonth)\n",
        "group_transition = utils.getCSVi(path+'/group_transition_'+str(calmonth)+'.csv', 0)\n",
        "#group_transition"
      ],
      "execution_count": 275,
      "outputs": []
    },
    {
      "cell_type": "code",
      "metadata": {
        "id": "HuwWf8zhW9II"
      },
      "source": [
        "row_sum = group_transition.sum(axis=1) #行和を求める\n",
        "#row_sum"
      ],
      "execution_count": 276,
      "outputs": []
    },
    {
      "cell_type": "code",
      "metadata": {
        "id": "XAwD-k9dYBbK"
      },
      "source": [
        "#行和が0の拠点を取り除く\n",
        "remove_index = group_transition[group_transition.sum(axis=1) == 0].index #行和が0の行番号の抽出\n",
        "#print(remove_index.values.tolist()) #pandasからリストへ変換\n",
        "remove_columns = [str(i) for i in remove_index.values.tolist()] #列番号は文字列なので、文字列リストへ変換\n",
        "#remove_columns"
      ],
      "execution_count": 277,
      "outputs": []
    },
    {
      "cell_type": "code",
      "metadata": {
        "id": "HDkuGjm6Z5II"
      },
      "source": [
        "group_transition_remove = group_transition.drop(index=remove_index.values.tolist(), columns=remove_columns) #行和が0、列和が0になるところを削除\n",
        "#group_transition_remove "
      ],
      "execution_count": 278,
      "outputs": []
    },
    {
      "cell_type": "code",
      "metadata": {
        "id": "gFrW3DBLiZQ-"
      },
      "source": [
        "#推移確率に変換(行和で割る)\n",
        "row_sum = group_transition_remove.sum(axis=1) #行和を求める\n",
        "for i in group_transition_remove.columns:\n",
        "  group_transition_remove[i] = group_transition_remove[i]/row_sum\n",
        "#group_transition_remove"
      ],
      "execution_count": 279,
      "outputs": []
    },
    {
      "cell_type": "code",
      "metadata": {
        "id": "bNhesh9glYHj"
      },
      "source": [
        "utils.saveCSVi(group_transition_remove, path+'/group_transition_remove_'+str(calmonth)+'.csv') #グループ推移確率(拠点利用無しを取り除いたもの)"
      ],
      "execution_count": 280,
      "outputs": []
    },
    {
      "cell_type": "code",
      "metadata": {
        "id": "T5pvQQ-JSss3"
      },
      "source": [
        "#APでの推移確率で利用無しを取り除く\n",
        "transition = utils.getCSVi(path+'/transition_all_'+str(calmonth)+'.csv', 0)\n",
        "row_sum = transition.sum(axis=1) #行和を求める\n",
        "remove_index = transition[transition.sum(axis=1) == 0].index #行和が0の行番号の抽出\n",
        "remove_columns = [str(i) for i in remove_index.values.tolist()] #列番号は文字列なので、文字列リストへ変換\n",
        "transition_remove = transition.drop(index=remove_index.values.tolist(), columns=remove_columns) #行和が0、列和が0になるところを削除\n",
        "#推移確率に変換(行和で割る)\n",
        "row_sum = transition_remove.sum(axis=1) #行和を求める\n",
        "for i in transition_remove.columns:\n",
        "  transition_remove[i] = transition_remove[i]/row_sum\n",
        "utils.saveCSVi(transition_remove, path+'/transition_remove_'+str(calmonth)+'.csv') #推移確率(拠点利用無しを取り除いたもの)"
      ],
      "execution_count": 281,
      "outputs": []
    },
    {
      "cell_type": "code",
      "metadata": {
        "id": "TKpoEjyFSss-"
      },
      "source": [
        ""
      ],
      "execution_count": 289,
      "outputs": []
    }
  ]
}